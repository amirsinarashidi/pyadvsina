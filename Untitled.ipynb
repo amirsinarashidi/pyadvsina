{
 "cells": [
  {
   "cell_type": "code",
   "execution_count": 1,
   "id": "269c247e-8ed9-448d-8792-ef6bea9ea967",
   "metadata": {},
   "outputs": [],
   "source": [
    "import pyadv_sina"
   ]
  },
  {
   "cell_type": "code",
   "execution_count": 2,
   "id": "d8ca55e3-d51b-434e-b52a-3b211b1cdba0",
   "metadata": {},
   "outputs": [],
   "source": [
    "from pyadv_sina import algos"
   ]
  },
  {
   "cell_type": "code",
   "execution_count": 3,
   "id": "3ac93915-809b-4b9d-8d95-6e35116bd8e8",
   "metadata": {},
   "outputs": [
    {
     "data": {
      "text/plain": [
       "'C:\\\\Users\\\\ASUS\\\\Desktop\\\\pyadvsina\\\\pyadvsina\\\\src\\\\pyadv_sina\\\\__init__.py'"
      ]
     },
     "execution_count": 3,
     "metadata": {},
     "output_type": "execute_result"
    }
   ],
   "source": [
    "pyadv_sina.__file__"
   ]
  },
  {
   "cell_type": "code",
   "execution_count": 4,
   "id": "37b212e6-1ae1-4ace-9901-b520105c2351",
   "metadata": {},
   "outputs": [],
   "source": [
    "a = 5\n",
    "b = 3"
   ]
  },
  {
   "cell_type": "code",
   "execution_count": 5,
   "id": "1b9c239f-8e8d-427f-bca7-0c3674cfc6a2",
   "metadata": {},
   "outputs": [
    {
     "data": {
      "text/plain": [
       "8"
      ]
     },
     "execution_count": 5,
     "metadata": {},
     "output_type": "execute_result"
    }
   ],
   "source": [
    "algos.add_one(7)"
   ]
  },
  {
   "cell_type": "code",
   "execution_count": 6,
   "id": "bc0611ee-08cd-4e8e-a8c9-9c63e80f99c1",
   "metadata": {},
   "outputs": [],
   "source": [
    "out=algos.add_one(1)"
   ]
  },
  {
   "cell_type": "code",
   "execution_count": 8,
   "id": "4b969eb2-6ad0-46cd-819e-6f7e6546f2f5",
   "metadata": {},
   "outputs": [],
   "source": [
    "assert out == 2 , f'hello {out}'"
   ]
  },
  {
   "cell_type": "code",
   "execution_count": 10,
   "id": "8df4062b-a229-469e-bbc1-013622b51c20",
   "metadata": {},
   "outputs": [],
   "source": [
    "import numpy as np\n",
    "\n",
    "my_array = np.array([1,2,3])\n",
    "output = np.array([2,3,4])"
   ]
  },
  {
   "cell_type": "code",
   "execution_count": 17,
   "id": "6555a313-527f-417e-9529-b81206f45bdd",
   "metadata": {},
   "outputs": [
    {
     "ename": "ValueError",
     "evalue": "The truth value of an array with more than one element is ambiguous. Use a.any() or a.all()",
     "output_type": "error",
     "traceback": [
      "\u001b[1;31m---------------------------------------------------------------------------\u001b[0m",
      "\u001b[1;31mValueError\u001b[0m                                Traceback (most recent call last)",
      "Cell \u001b[1;32mIn[17], line 2\u001b[0m\n\u001b[0;32m      1\u001b[0m my_output \u001b[38;5;241m=\u001b[39m algos\u001b[38;5;241m.\u001b[39madd_one(my_array)\n\u001b[1;32m----> 2\u001b[0m \u001b[38;5;28;01massert\u001b[39;00m \u001b[43moutput\u001b[49m\u001b[43m \u001b[49m\u001b[38;5;241;43m==\u001b[39;49m\u001b[43m \u001b[49m\u001b[43mmy_output\u001b[49m \n",
      "\u001b[1;31mValueError\u001b[0m: The truth value of an array with more than one element is ambiguous. Use a.any() or a.all()"
     ]
    }
   ],
   "source": [
    "my_output = algos.add_one(my_array)\n",
    "assert output == my_output "
   ]
  },
  {
   "cell_type": "code",
   "execution_count": 18,
   "id": "d8043762-baef-4f3a-a6b9-a472887a8aa7",
   "metadata": {},
   "outputs": [
    {
     "ename": "TypeError",
     "evalue": "only length-1 arrays can be converted to Python scalars",
     "output_type": "error",
     "traceback": [
      "\u001b[1;31m---------------------------------------------------------------------------\u001b[0m",
      "\u001b[1;31mTypeError\u001b[0m                                 Traceback (most recent call last)",
      "Cell \u001b[1;32mIn[18], line 1\u001b[0m\n\u001b[1;32m----> 1\u001b[0m \u001b[43mnp\u001b[49m\u001b[38;5;241;43m.\u001b[39;49m\u001b[43mtesting\u001b[49m\u001b[38;5;241;43m.\u001b[39;49m\u001b[43massert_approx_equal\u001b[49m\u001b[43m(\u001b[49m\u001b[43moutput\u001b[49m\u001b[43m,\u001b[49m\u001b[43mmy_output\u001b[49m\u001b[43m)\u001b[49m\n",
      "File \u001b[1;32m~\\anaconda3\\envs\\mypackaging\\lib\\contextlib.py:79\u001b[0m, in \u001b[0;36mContextDecorator.__call__.<locals>.inner\u001b[1;34m(*args, **kwds)\u001b[0m\n\u001b[0;32m     76\u001b[0m \u001b[38;5;129m@wraps\u001b[39m(func)\n\u001b[0;32m     77\u001b[0m \u001b[38;5;28;01mdef\u001b[39;00m \u001b[38;5;21minner\u001b[39m(\u001b[38;5;241m*\u001b[39margs, \u001b[38;5;241m*\u001b[39m\u001b[38;5;241m*\u001b[39mkwds):\n\u001b[0;32m     78\u001b[0m     \u001b[38;5;28;01mwith\u001b[39;00m \u001b[38;5;28mself\u001b[39m\u001b[38;5;241m.\u001b[39m_recreate_cm():\n\u001b[1;32m---> 79\u001b[0m         \u001b[38;5;28;01mreturn\u001b[39;00m func(\u001b[38;5;241m*\u001b[39margs, \u001b[38;5;241m*\u001b[39m\u001b[38;5;241m*\u001b[39mkwds)\n",
      "File \u001b[1;32m~\\anaconda3\\envs\\mypackaging\\lib\\site-packages\\numpy\\testing\\_private\\utils.py:603\u001b[0m, in \u001b[0;36massert_approx_equal\u001b[1;34m(actual, desired, significant, err_msg, verbose)\u001b[0m\n\u001b[0;32m    600\u001b[0m __tracebackhide__ \u001b[38;5;241m=\u001b[39m \u001b[38;5;28;01mTrue\u001b[39;00m  \u001b[38;5;66;03m# Hide traceback for py.test\u001b[39;00m\n\u001b[0;32m    601\u001b[0m \u001b[38;5;28;01mimport\u001b[39;00m \u001b[38;5;21;01mnumpy\u001b[39;00m \u001b[38;5;28;01mas\u001b[39;00m \u001b[38;5;21;01mnp\u001b[39;00m\n\u001b[1;32m--> 603\u001b[0m (actual, desired) \u001b[38;5;241m=\u001b[39m \u001b[38;5;28mmap\u001b[39m(\u001b[38;5;28mfloat\u001b[39m, (actual, desired))\n\u001b[0;32m    604\u001b[0m \u001b[38;5;28;01mif\u001b[39;00m desired \u001b[38;5;241m==\u001b[39m actual:\n\u001b[0;32m    605\u001b[0m     \u001b[38;5;28;01mreturn\u001b[39;00m\n",
      "\u001b[1;31mTypeError\u001b[0m: only length-1 arrays can be converted to Python scalars"
     ]
    }
   ],
   "source": [
    "np.testing.assert_approx_equal(output,my_output)"
   ]
  },
  {
   "cell_type": "code",
   "execution_count": 19,
   "id": "cabc8a9a-24d0-4fa2-97d8-7d638c4308fc",
   "metadata": {},
   "outputs": [],
   "source": [
    "np.testing.assert_array_equal(output, my_output)"
   ]
  },
  {
   "cell_type": "code",
   "execution_count": null,
   "id": "159b1b79-f6bc-457c-9f3e-1424dc4d57d2",
   "metadata": {},
   "outputs": [],
   "source": []
  }
 ],
 "metadata": {
  "kernelspec": {
   "display_name": "Python 3 (ipykernel)",
   "language": "python",
   "name": "python3"
  },
  "language_info": {
   "codemirror_mode": {
    "name": "ipython",
    "version": 3
   },
   "file_extension": ".py",
   "mimetype": "text/x-python",
   "name": "python",
   "nbconvert_exporter": "python",
   "pygments_lexer": "ipython3",
   "version": "3.10.14"
  }
 },
 "nbformat": 4,
 "nbformat_minor": 5
}
