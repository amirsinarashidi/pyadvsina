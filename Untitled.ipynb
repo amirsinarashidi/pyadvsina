{
 "cells": [
  {
   "cell_type": "code",
   "execution_count": 7,
   "id": "269c247e-8ed9-448d-8792-ef6bea9ea967",
   "metadata": {},
   "outputs": [],
   "source": [
    "import pyadv_sina"
   ]
  },
  {
   "cell_type": "code",
   "execution_count": 2,
   "id": "d8ca55e3-d51b-434e-b52a-3b211b1cdba0",
   "metadata": {},
   "outputs": [
    {
     "ename": "ModuleNotFoundError",
     "evalue": "No module named 'numpy'",
     "output_type": "error",
     "traceback": [
      "\u001b[1;31m---------------------------------------------------------------------------\u001b[0m",
      "\u001b[1;31mModuleNotFoundError\u001b[0m                       Traceback (most recent call last)",
      "Cell \u001b[1;32mIn[2], line 1\u001b[0m\n\u001b[1;32m----> 1\u001b[0m \u001b[38;5;28;01mfrom\u001b[39;00m \u001b[38;5;21;01mpyadv_sina\u001b[39;00m \u001b[38;5;28;01mimport\u001b[39;00m algos\n",
      "File \u001b[1;32m~\\Desktop\\pyadvsina\\pyadvsina\\src\\pyadv_sina\\algos.py:1\u001b[0m\n\u001b[1;32m----> 1\u001b[0m \u001b[38;5;28;01mimport\u001b[39;00m \u001b[38;5;21;01mnumpy\u001b[39;00m \u001b[38;5;28;01mas\u001b[39;00m \u001b[38;5;21;01mnp\u001b[39;00m\n\u001b[0;32m      3\u001b[0m \u001b[38;5;28;01mdef\u001b[39;00m \u001b[38;5;21madd_one\u001b[39m(x):\n\u001b[0;32m      4\u001b[0m     \u001b[38;5;28;01mreturn\u001b[39;00m np\u001b[38;5;241m.\u001b[39marray(x) \u001b[38;5;241m+\u001b[39m\u001b[38;5;241m1\u001b[39m\n",
      "\u001b[1;31mModuleNotFoundError\u001b[0m: No module named 'numpy'"
     ]
    }
   ],
   "source": [
    "from pyadv_sina import algos"
   ]
  },
  {
   "cell_type": "code",
   "execution_count": 6,
   "id": "3ac93915-809b-4b9d-8d95-6e35116bd8e8",
   "metadata": {},
   "outputs": [
    {
     "data": {
      "text/plain": [
       "'C:\\\\Users\\\\ASUS\\\\Desktop\\\\pyadvsina\\\\pyadvsina\\\\src\\\\pyadv_sina\\\\__init__.py'"
      ]
     },
     "execution_count": 6,
     "metadata": {},
     "output_type": "execute_result"
    }
   ],
   "source": [
    "pyadv_sina.__file__"
   ]
  },
  {
   "cell_type": "code",
   "execution_count": 1,
   "id": "37b212e6-1ae1-4ace-9901-b520105c2351",
   "metadata": {},
   "outputs": [],
   "source": [
    "a = 5\n",
    "b = 3"
   ]
  },
  {
   "cell_type": "code",
   "execution_count": null,
   "id": "1b9c239f-8e8d-427f-bca7-0c3674cfc6a2",
   "metadata": {},
   "outputs": [],
   "source": []
  }
 ],
 "metadata": {
  "kernelspec": {
   "display_name": "Python 3 (ipykernel)",
   "language": "python",
   "name": "python3"
  },
  "language_info": {
   "codemirror_mode": {
    "name": "ipython",
    "version": 3
   },
   "file_extension": ".py",
   "mimetype": "text/x-python",
   "name": "python",
   "nbconvert_exporter": "python",
   "pygments_lexer": "ipython3",
   "version": "3.10.14"
  }
 },
 "nbformat": 4,
 "nbformat_minor": 5
}
